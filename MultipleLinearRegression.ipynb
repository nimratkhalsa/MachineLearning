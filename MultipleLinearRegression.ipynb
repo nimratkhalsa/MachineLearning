{
  "nbformat": 4,
  "nbformat_minor": 0,
  "metadata": {
    "colab": {
      "provenance": [],
      "authorship_tag": "ABX9TyPmP5yFrUA/oAxUZ54Tjh+U",
      "include_colab_link": true
    },
    "kernelspec": {
      "name": "python3",
      "display_name": "Python 3"
    },
    "language_info": {
      "name": "python"
    }
  },
  "cells": [
    {
      "cell_type": "markdown",
      "metadata": {
        "id": "view-in-github",
        "colab_type": "text"
      },
      "source": [
        "<a href=\"https://colab.research.google.com/github/nimratkhalsa/MachineLearning/blob/main/MultipleLinearRegression.ipynb\" target=\"_parent\"><img src=\"https://colab.research.google.com/assets/colab-badge.svg\" alt=\"Open In Colab\"/></a>"
      ]
    },
    {
      "cell_type": "markdown",
      "source": [
        "# **Multiple Linear Reggression**"
      ],
      "metadata": {
        "id": "7Q_UYwLXWQZm"
      }
    },
    {
      "cell_type": "markdown",
      "source": [
        "## Importing Needed Packages"
      ],
      "metadata": {
        "id": "AJbsHjVQWWVX"
      }
    },
    {
      "cell_type": "code",
      "execution_count": 31,
      "metadata": {
        "id": "YdYuwkqTWMJ-"
      },
      "outputs": [],
      "source": [
        "import matplotlib.pyplot as plt\n",
        "import numpy as np\n",
        "import pandas as pd\n",
        "import pylab as pl"
      ]
    },
    {
      "cell_type": "markdown",
      "source": [
        "## Downloading Data"
      ],
      "metadata": {
        "id": "LJDnN6jsWNUB"
      }
    },
    {
      "cell_type": "code",
      "source": [
        "!wget -O FuelConsumption.csv https://cf-courses-data.s3.us.cloud-object-storage.appdomain.cloud/IBMDeveloperSkillsNetwork-ML0101EN-SkillsNetwork/labs/Module%202/data/FuelConsumptionCo2.csv"
      ],
      "metadata": {
        "colab": {
          "base_uri": "https://localhost:8080/"
        },
        "id": "niPcyVCqWh5b",
        "outputId": "437dfa8f-9157-4c94-fbb3-0c2312b5ceb5"
      },
      "execution_count": 32,
      "outputs": [
        {
          "output_type": "stream",
          "name": "stdout",
          "text": [
            "--2024-08-18 17:00:48--  https://cf-courses-data.s3.us.cloud-object-storage.appdomain.cloud/IBMDeveloperSkillsNetwork-ML0101EN-SkillsNetwork/labs/Module%202/data/FuelConsumptionCo2.csv\n",
            "Resolving cf-courses-data.s3.us.cloud-object-storage.appdomain.cloud (cf-courses-data.s3.us.cloud-object-storage.appdomain.cloud)... 169.63.118.104\n",
            "Connecting to cf-courses-data.s3.us.cloud-object-storage.appdomain.cloud (cf-courses-data.s3.us.cloud-object-storage.appdomain.cloud)|169.63.118.104|:443... connected.\n",
            "HTTP request sent, awaiting response... 200 OK\n",
            "Length: 72629 (71K) [text/csv]\n",
            "Saving to: ‘FuelConsumption.csv’\n",
            "\n",
            "FuelConsumption.csv 100%[===================>]  70.93K  --.-KB/s    in 0.04s   \n",
            "\n",
            "2024-08-18 17:00:49 (1.88 MB/s) - ‘FuelConsumption.csv’ saved [72629/72629]\n",
            "\n"
          ]
        }
      ]
    },
    {
      "cell_type": "markdown",
      "source": [
        "## Reading the Data"
      ],
      "metadata": {
        "id": "T5iRBj_jWq5W"
      }
    },
    {
      "cell_type": "code",
      "source": [
        "df = pd.read_csv(\"FuelConsumption.csv\")\n",
        "df.head(10)"
      ],
      "metadata": {
        "colab": {
          "base_uri": "https://localhost:8080/",
          "height": 430
        },
        "id": "isMGnvq9Wj0W",
        "outputId": "a8ff03a5-7eec-4d1d-f2ba-f3904d4eca39"
      },
      "execution_count": 33,
      "outputs": [
        {
          "output_type": "execute_result",
          "data": {
            "text/plain": [
              "   MODELYEAR   MAKE       MODEL VEHICLECLASS  ENGINESIZE  CYLINDERS  \\\n",
              "0       2014  ACURA         ILX      COMPACT         2.0          4   \n",
              "1       2014  ACURA         ILX      COMPACT         2.4          4   \n",
              "2       2014  ACURA  ILX HYBRID      COMPACT         1.5          4   \n",
              "3       2014  ACURA     MDX 4WD  SUV - SMALL         3.5          6   \n",
              "4       2014  ACURA     RDX AWD  SUV - SMALL         3.5          6   \n",
              "5       2014  ACURA         RLX     MID-SIZE         3.5          6   \n",
              "6       2014  ACURA          TL     MID-SIZE         3.5          6   \n",
              "7       2014  ACURA      TL AWD     MID-SIZE         3.7          6   \n",
              "8       2014  ACURA      TL AWD     MID-SIZE         3.7          6   \n",
              "9       2014  ACURA         TSX      COMPACT         2.4          4   \n",
              "\n",
              "  TRANSMISSION FUELTYPE  FUELCONSUMPTION_CITY  FUELCONSUMPTION_HWY  \\\n",
              "0          AS5        Z                   9.9                  6.7   \n",
              "1           M6        Z                  11.2                  7.7   \n",
              "2          AV7        Z                   6.0                  5.8   \n",
              "3          AS6        Z                  12.7                  9.1   \n",
              "4          AS6        Z                  12.1                  8.7   \n",
              "5          AS6        Z                  11.9                  7.7   \n",
              "6          AS6        Z                  11.8                  8.1   \n",
              "7          AS6        Z                  12.8                  9.0   \n",
              "8           M6        Z                  13.4                  9.5   \n",
              "9          AS5        Z                  10.6                  7.5   \n",
              "\n",
              "   FUELCONSUMPTION_COMB  FUELCONSUMPTION_COMB_MPG  CO2EMISSIONS  \n",
              "0                   8.5                        33           196  \n",
              "1                   9.6                        29           221  \n",
              "2                   5.9                        48           136  \n",
              "3                  11.1                        25           255  \n",
              "4                  10.6                        27           244  \n",
              "5                  10.0                        28           230  \n",
              "6                  10.1                        28           232  \n",
              "7                  11.1                        25           255  \n",
              "8                  11.6                        24           267  \n",
              "9                   9.2                        31           212  "
            ],
            "text/html": [
              "\n",
              "  <div id=\"df-62d3ddd8-155c-4f49-b77e-7f8b92d2772b\" class=\"colab-df-container\">\n",
              "    <div>\n",
              "<style scoped>\n",
              "    .dataframe tbody tr th:only-of-type {\n",
              "        vertical-align: middle;\n",
              "    }\n",
              "\n",
              "    .dataframe tbody tr th {\n",
              "        vertical-align: top;\n",
              "    }\n",
              "\n",
              "    .dataframe thead th {\n",
              "        text-align: right;\n",
              "    }\n",
              "</style>\n",
              "<table border=\"1\" class=\"dataframe\">\n",
              "  <thead>\n",
              "    <tr style=\"text-align: right;\">\n",
              "      <th></th>\n",
              "      <th>MODELYEAR</th>\n",
              "      <th>MAKE</th>\n",
              "      <th>MODEL</th>\n",
              "      <th>VEHICLECLASS</th>\n",
              "      <th>ENGINESIZE</th>\n",
              "      <th>CYLINDERS</th>\n",
              "      <th>TRANSMISSION</th>\n",
              "      <th>FUELTYPE</th>\n",
              "      <th>FUELCONSUMPTION_CITY</th>\n",
              "      <th>FUELCONSUMPTION_HWY</th>\n",
              "      <th>FUELCONSUMPTION_COMB</th>\n",
              "      <th>FUELCONSUMPTION_COMB_MPG</th>\n",
              "      <th>CO2EMISSIONS</th>\n",
              "    </tr>\n",
              "  </thead>\n",
              "  <tbody>\n",
              "    <tr>\n",
              "      <th>0</th>\n",
              "      <td>2014</td>\n",
              "      <td>ACURA</td>\n",
              "      <td>ILX</td>\n",
              "      <td>COMPACT</td>\n",
              "      <td>2.0</td>\n",
              "      <td>4</td>\n",
              "      <td>AS5</td>\n",
              "      <td>Z</td>\n",
              "      <td>9.9</td>\n",
              "      <td>6.7</td>\n",
              "      <td>8.5</td>\n",
              "      <td>33</td>\n",
              "      <td>196</td>\n",
              "    </tr>\n",
              "    <tr>\n",
              "      <th>1</th>\n",
              "      <td>2014</td>\n",
              "      <td>ACURA</td>\n",
              "      <td>ILX</td>\n",
              "      <td>COMPACT</td>\n",
              "      <td>2.4</td>\n",
              "      <td>4</td>\n",
              "      <td>M6</td>\n",
              "      <td>Z</td>\n",
              "      <td>11.2</td>\n",
              "      <td>7.7</td>\n",
              "      <td>9.6</td>\n",
              "      <td>29</td>\n",
              "      <td>221</td>\n",
              "    </tr>\n",
              "    <tr>\n",
              "      <th>2</th>\n",
              "      <td>2014</td>\n",
              "      <td>ACURA</td>\n",
              "      <td>ILX HYBRID</td>\n",
              "      <td>COMPACT</td>\n",
              "      <td>1.5</td>\n",
              "      <td>4</td>\n",
              "      <td>AV7</td>\n",
              "      <td>Z</td>\n",
              "      <td>6.0</td>\n",
              "      <td>5.8</td>\n",
              "      <td>5.9</td>\n",
              "      <td>48</td>\n",
              "      <td>136</td>\n",
              "    </tr>\n",
              "    <tr>\n",
              "      <th>3</th>\n",
              "      <td>2014</td>\n",
              "      <td>ACURA</td>\n",
              "      <td>MDX 4WD</td>\n",
              "      <td>SUV - SMALL</td>\n",
              "      <td>3.5</td>\n",
              "      <td>6</td>\n",
              "      <td>AS6</td>\n",
              "      <td>Z</td>\n",
              "      <td>12.7</td>\n",
              "      <td>9.1</td>\n",
              "      <td>11.1</td>\n",
              "      <td>25</td>\n",
              "      <td>255</td>\n",
              "    </tr>\n",
              "    <tr>\n",
              "      <th>4</th>\n",
              "      <td>2014</td>\n",
              "      <td>ACURA</td>\n",
              "      <td>RDX AWD</td>\n",
              "      <td>SUV - SMALL</td>\n",
              "      <td>3.5</td>\n",
              "      <td>6</td>\n",
              "      <td>AS6</td>\n",
              "      <td>Z</td>\n",
              "      <td>12.1</td>\n",
              "      <td>8.7</td>\n",
              "      <td>10.6</td>\n",
              "      <td>27</td>\n",
              "      <td>244</td>\n",
              "    </tr>\n",
              "    <tr>\n",
              "      <th>5</th>\n",
              "      <td>2014</td>\n",
              "      <td>ACURA</td>\n",
              "      <td>RLX</td>\n",
              "      <td>MID-SIZE</td>\n",
              "      <td>3.5</td>\n",
              "      <td>6</td>\n",
              "      <td>AS6</td>\n",
              "      <td>Z</td>\n",
              "      <td>11.9</td>\n",
              "      <td>7.7</td>\n",
              "      <td>10.0</td>\n",
              "      <td>28</td>\n",
              "      <td>230</td>\n",
              "    </tr>\n",
              "    <tr>\n",
              "      <th>6</th>\n",
              "      <td>2014</td>\n",
              "      <td>ACURA</td>\n",
              "      <td>TL</td>\n",
              "      <td>MID-SIZE</td>\n",
              "      <td>3.5</td>\n",
              "      <td>6</td>\n",
              "      <td>AS6</td>\n",
              "      <td>Z</td>\n",
              "      <td>11.8</td>\n",
              "      <td>8.1</td>\n",
              "      <td>10.1</td>\n",
              "      <td>28</td>\n",
              "      <td>232</td>\n",
              "    </tr>\n",
              "    <tr>\n",
              "      <th>7</th>\n",
              "      <td>2014</td>\n",
              "      <td>ACURA</td>\n",
              "      <td>TL AWD</td>\n",
              "      <td>MID-SIZE</td>\n",
              "      <td>3.7</td>\n",
              "      <td>6</td>\n",
              "      <td>AS6</td>\n",
              "      <td>Z</td>\n",
              "      <td>12.8</td>\n",
              "      <td>9.0</td>\n",
              "      <td>11.1</td>\n",
              "      <td>25</td>\n",
              "      <td>255</td>\n",
              "    </tr>\n",
              "    <tr>\n",
              "      <th>8</th>\n",
              "      <td>2014</td>\n",
              "      <td>ACURA</td>\n",
              "      <td>TL AWD</td>\n",
              "      <td>MID-SIZE</td>\n",
              "      <td>3.7</td>\n",
              "      <td>6</td>\n",
              "      <td>M6</td>\n",
              "      <td>Z</td>\n",
              "      <td>13.4</td>\n",
              "      <td>9.5</td>\n",
              "      <td>11.6</td>\n",
              "      <td>24</td>\n",
              "      <td>267</td>\n",
              "    </tr>\n",
              "    <tr>\n",
              "      <th>9</th>\n",
              "      <td>2014</td>\n",
              "      <td>ACURA</td>\n",
              "      <td>TSX</td>\n",
              "      <td>COMPACT</td>\n",
              "      <td>2.4</td>\n",
              "      <td>4</td>\n",
              "      <td>AS5</td>\n",
              "      <td>Z</td>\n",
              "      <td>10.6</td>\n",
              "      <td>7.5</td>\n",
              "      <td>9.2</td>\n",
              "      <td>31</td>\n",
              "      <td>212</td>\n",
              "    </tr>\n",
              "  </tbody>\n",
              "</table>\n",
              "</div>\n",
              "    <div class=\"colab-df-buttons\">\n",
              "\n",
              "  <div class=\"colab-df-container\">\n",
              "    <button class=\"colab-df-convert\" onclick=\"convertToInteractive('df-62d3ddd8-155c-4f49-b77e-7f8b92d2772b')\"\n",
              "            title=\"Convert this dataframe to an interactive table.\"\n",
              "            style=\"display:none;\">\n",
              "\n",
              "  <svg xmlns=\"http://www.w3.org/2000/svg\" height=\"24px\" viewBox=\"0 -960 960 960\">\n",
              "    <path d=\"M120-120v-720h720v720H120Zm60-500h600v-160H180v160Zm220 220h160v-160H400v160Zm0 220h160v-160H400v160ZM180-400h160v-160H180v160Zm440 0h160v-160H620v160ZM180-180h160v-160H180v160Zm440 0h160v-160H620v160Z\"/>\n",
              "  </svg>\n",
              "    </button>\n",
              "\n",
              "  <style>\n",
              "    .colab-df-container {\n",
              "      display:flex;\n",
              "      gap: 12px;\n",
              "    }\n",
              "\n",
              "    .colab-df-convert {\n",
              "      background-color: #E8F0FE;\n",
              "      border: none;\n",
              "      border-radius: 50%;\n",
              "      cursor: pointer;\n",
              "      display: none;\n",
              "      fill: #1967D2;\n",
              "      height: 32px;\n",
              "      padding: 0 0 0 0;\n",
              "      width: 32px;\n",
              "    }\n",
              "\n",
              "    .colab-df-convert:hover {\n",
              "      background-color: #E2EBFA;\n",
              "      box-shadow: 0px 1px 2px rgba(60, 64, 67, 0.3), 0px 1px 3px 1px rgba(60, 64, 67, 0.15);\n",
              "      fill: #174EA6;\n",
              "    }\n",
              "\n",
              "    .colab-df-buttons div {\n",
              "      margin-bottom: 4px;\n",
              "    }\n",
              "\n",
              "    [theme=dark] .colab-df-convert {\n",
              "      background-color: #3B4455;\n",
              "      fill: #D2E3FC;\n",
              "    }\n",
              "\n",
              "    [theme=dark] .colab-df-convert:hover {\n",
              "      background-color: #434B5C;\n",
              "      box-shadow: 0px 1px 3px 1px rgba(0, 0, 0, 0.15);\n",
              "      filter: drop-shadow(0px 1px 2px rgba(0, 0, 0, 0.3));\n",
              "      fill: #FFFFFF;\n",
              "    }\n",
              "  </style>\n",
              "\n",
              "    <script>\n",
              "      const buttonEl =\n",
              "        document.querySelector('#df-62d3ddd8-155c-4f49-b77e-7f8b92d2772b button.colab-df-convert');\n",
              "      buttonEl.style.display =\n",
              "        google.colab.kernel.accessAllowed ? 'block' : 'none';\n",
              "\n",
              "      async function convertToInteractive(key) {\n",
              "        const element = document.querySelector('#df-62d3ddd8-155c-4f49-b77e-7f8b92d2772b');\n",
              "        const dataTable =\n",
              "          await google.colab.kernel.invokeFunction('convertToInteractive',\n",
              "                                                    [key], {});\n",
              "        if (!dataTable) return;\n",
              "\n",
              "        const docLinkHtml = 'Like what you see? Visit the ' +\n",
              "          '<a target=\"_blank\" href=https://colab.research.google.com/notebooks/data_table.ipynb>data table notebook</a>'\n",
              "          + ' to learn more about interactive tables.';\n",
              "        element.innerHTML = '';\n",
              "        dataTable['output_type'] = 'display_data';\n",
              "        await google.colab.output.renderOutput(dataTable, element);\n",
              "        const docLink = document.createElement('div');\n",
              "        docLink.innerHTML = docLinkHtml;\n",
              "        element.appendChild(docLink);\n",
              "      }\n",
              "    </script>\n",
              "  </div>\n",
              "\n",
              "\n",
              "<div id=\"df-eb1ff194-d2b7-4da8-b4c3-cd299c297e99\">\n",
              "  <button class=\"colab-df-quickchart\" onclick=\"quickchart('df-eb1ff194-d2b7-4da8-b4c3-cd299c297e99')\"\n",
              "            title=\"Suggest charts\"\n",
              "            style=\"display:none;\">\n",
              "\n",
              "<svg xmlns=\"http://www.w3.org/2000/svg\" height=\"24px\"viewBox=\"0 0 24 24\"\n",
              "     width=\"24px\">\n",
              "    <g>\n",
              "        <path d=\"M19 3H5c-1.1 0-2 .9-2 2v14c0 1.1.9 2 2 2h14c1.1 0 2-.9 2-2V5c0-1.1-.9-2-2-2zM9 17H7v-7h2v7zm4 0h-2V7h2v10zm4 0h-2v-4h2v4z\"/>\n",
              "    </g>\n",
              "</svg>\n",
              "  </button>\n",
              "\n",
              "<style>\n",
              "  .colab-df-quickchart {\n",
              "      --bg-color: #E8F0FE;\n",
              "      --fill-color: #1967D2;\n",
              "      --hover-bg-color: #E2EBFA;\n",
              "      --hover-fill-color: #174EA6;\n",
              "      --disabled-fill-color: #AAA;\n",
              "      --disabled-bg-color: #DDD;\n",
              "  }\n",
              "\n",
              "  [theme=dark] .colab-df-quickchart {\n",
              "      --bg-color: #3B4455;\n",
              "      --fill-color: #D2E3FC;\n",
              "      --hover-bg-color: #434B5C;\n",
              "      --hover-fill-color: #FFFFFF;\n",
              "      --disabled-bg-color: #3B4455;\n",
              "      --disabled-fill-color: #666;\n",
              "  }\n",
              "\n",
              "  .colab-df-quickchart {\n",
              "    background-color: var(--bg-color);\n",
              "    border: none;\n",
              "    border-radius: 50%;\n",
              "    cursor: pointer;\n",
              "    display: none;\n",
              "    fill: var(--fill-color);\n",
              "    height: 32px;\n",
              "    padding: 0;\n",
              "    width: 32px;\n",
              "  }\n",
              "\n",
              "  .colab-df-quickchart:hover {\n",
              "    background-color: var(--hover-bg-color);\n",
              "    box-shadow: 0 1px 2px rgba(60, 64, 67, 0.3), 0 1px 3px 1px rgba(60, 64, 67, 0.15);\n",
              "    fill: var(--button-hover-fill-color);\n",
              "  }\n",
              "\n",
              "  .colab-df-quickchart-complete:disabled,\n",
              "  .colab-df-quickchart-complete:disabled:hover {\n",
              "    background-color: var(--disabled-bg-color);\n",
              "    fill: var(--disabled-fill-color);\n",
              "    box-shadow: none;\n",
              "  }\n",
              "\n",
              "  .colab-df-spinner {\n",
              "    border: 2px solid var(--fill-color);\n",
              "    border-color: transparent;\n",
              "    border-bottom-color: var(--fill-color);\n",
              "    animation:\n",
              "      spin 1s steps(1) infinite;\n",
              "  }\n",
              "\n",
              "  @keyframes spin {\n",
              "    0% {\n",
              "      border-color: transparent;\n",
              "      border-bottom-color: var(--fill-color);\n",
              "      border-left-color: var(--fill-color);\n",
              "    }\n",
              "    20% {\n",
              "      border-color: transparent;\n",
              "      border-left-color: var(--fill-color);\n",
              "      border-top-color: var(--fill-color);\n",
              "    }\n",
              "    30% {\n",
              "      border-color: transparent;\n",
              "      border-left-color: var(--fill-color);\n",
              "      border-top-color: var(--fill-color);\n",
              "      border-right-color: var(--fill-color);\n",
              "    }\n",
              "    40% {\n",
              "      border-color: transparent;\n",
              "      border-right-color: var(--fill-color);\n",
              "      border-top-color: var(--fill-color);\n",
              "    }\n",
              "    60% {\n",
              "      border-color: transparent;\n",
              "      border-right-color: var(--fill-color);\n",
              "    }\n",
              "    80% {\n",
              "      border-color: transparent;\n",
              "      border-right-color: var(--fill-color);\n",
              "      border-bottom-color: var(--fill-color);\n",
              "    }\n",
              "    90% {\n",
              "      border-color: transparent;\n",
              "      border-bottom-color: var(--fill-color);\n",
              "    }\n",
              "  }\n",
              "</style>\n",
              "\n",
              "  <script>\n",
              "    async function quickchart(key) {\n",
              "      const quickchartButtonEl =\n",
              "        document.querySelector('#' + key + ' button');\n",
              "      quickchartButtonEl.disabled = true;  // To prevent multiple clicks.\n",
              "      quickchartButtonEl.classList.add('colab-df-spinner');\n",
              "      try {\n",
              "        const charts = await google.colab.kernel.invokeFunction(\n",
              "            'suggestCharts', [key], {});\n",
              "      } catch (error) {\n",
              "        console.error('Error during call to suggestCharts:', error);\n",
              "      }\n",
              "      quickchartButtonEl.classList.remove('colab-df-spinner');\n",
              "      quickchartButtonEl.classList.add('colab-df-quickchart-complete');\n",
              "    }\n",
              "    (() => {\n",
              "      let quickchartButtonEl =\n",
              "        document.querySelector('#df-eb1ff194-d2b7-4da8-b4c3-cd299c297e99 button');\n",
              "      quickchartButtonEl.style.display =\n",
              "        google.colab.kernel.accessAllowed ? 'block' : 'none';\n",
              "    })();\n",
              "  </script>\n",
              "</div>\n",
              "\n",
              "    </div>\n",
              "  </div>\n"
            ],
            "application/vnd.google.colaboratory.intrinsic+json": {
              "type": "dataframe",
              "variable_name": "df",
              "summary": "{\n  \"name\": \"df\",\n  \"rows\": 1067,\n  \"fields\": [\n    {\n      \"column\": \"MODELYEAR\",\n      \"properties\": {\n        \"dtype\": \"number\",\n        \"std\": 0,\n        \"min\": 2014,\n        \"max\": 2014,\n        \"num_unique_values\": 1,\n        \"samples\": [\n          2014\n        ],\n        \"semantic_type\": \"\",\n        \"description\": \"\"\n      }\n    },\n    {\n      \"column\": \"MAKE\",\n      \"properties\": {\n        \"dtype\": \"category\",\n        \"num_unique_values\": 39,\n        \"samples\": [\n          \"SMART\"\n        ],\n        \"semantic_type\": \"\",\n        \"description\": \"\"\n      }\n    },\n    {\n      \"column\": \"MODEL\",\n      \"properties\": {\n        \"dtype\": \"string\",\n        \"num_unique_values\": 663,\n        \"samples\": [\n          \"XJL SUPERCHARGED\"\n        ],\n        \"semantic_type\": \"\",\n        \"description\": \"\"\n      }\n    },\n    {\n      \"column\": \"VEHICLECLASS\",\n      \"properties\": {\n        \"dtype\": \"category\",\n        \"num_unique_values\": 16,\n        \"samples\": [\n          \"COMPACT\"\n        ],\n        \"semantic_type\": \"\",\n        \"description\": \"\"\n      }\n    },\n    {\n      \"column\": \"ENGINESIZE\",\n      \"properties\": {\n        \"dtype\": \"number\",\n        \"std\": 1.4158950514240647,\n        \"min\": 1.0,\n        \"max\": 8.4,\n        \"num_unique_values\": 45,\n        \"samples\": [\n          3.4\n        ],\n        \"semantic_type\": \"\",\n        \"description\": \"\"\n      }\n    },\n    {\n      \"column\": \"CYLINDERS\",\n      \"properties\": {\n        \"dtype\": \"number\",\n        \"std\": 1,\n        \"min\": 3,\n        \"max\": 12,\n        \"num_unique_values\": 7,\n        \"samples\": [\n          4\n        ],\n        \"semantic_type\": \"\",\n        \"description\": \"\"\n      }\n    },\n    {\n      \"column\": \"TRANSMISSION\",\n      \"properties\": {\n        \"dtype\": \"category\",\n        \"num_unique_values\": 22,\n        \"samples\": [\n          \"AS5\"\n        ],\n        \"semantic_type\": \"\",\n        \"description\": \"\"\n      }\n    },\n    {\n      \"column\": \"FUELTYPE\",\n      \"properties\": {\n        \"dtype\": \"category\",\n        \"num_unique_values\": 4,\n        \"samples\": [\n          \"D\"\n        ],\n        \"semantic_type\": \"\",\n        \"description\": \"\"\n      }\n    },\n    {\n      \"column\": \"FUELCONSUMPTION_CITY\",\n      \"properties\": {\n        \"dtype\": \"number\",\n        \"std\": 4.101253317068339,\n        \"min\": 4.6,\n        \"max\": 30.2,\n        \"num_unique_values\": 167,\n        \"samples\": [\n          21.5\n        ],\n        \"semantic_type\": \"\",\n        \"description\": \"\"\n      }\n    },\n    {\n      \"column\": \"FUELCONSUMPTION_HWY\",\n      \"properties\": {\n        \"dtype\": \"number\",\n        \"std\": 2.7945104498854048,\n        \"min\": 4.9,\n        \"max\": 20.5,\n        \"num_unique_values\": 118,\n        \"samples\": [\n          5.1\n        ],\n        \"semantic_type\": \"\",\n        \"description\": \"\"\n      }\n    },\n    {\n      \"column\": \"FUELCONSUMPTION_COMB\",\n      \"properties\": {\n        \"dtype\": \"number\",\n        \"std\": 3.4855948496348406,\n        \"min\": 4.7,\n        \"max\": 25.8,\n        \"num_unique_values\": 148,\n        \"samples\": [\n          6.3\n        ],\n        \"semantic_type\": \"\",\n        \"description\": \"\"\n      }\n    },\n    {\n      \"column\": \"FUELCONSUMPTION_COMB_MPG\",\n      \"properties\": {\n        \"dtype\": \"number\",\n        \"std\": 7,\n        \"min\": 11,\n        \"max\": 60,\n        \"num_unique_values\": 43,\n        \"samples\": [\n          45\n        ],\n        \"semantic_type\": \"\",\n        \"description\": \"\"\n      }\n    },\n    {\n      \"column\": \"CO2EMISSIONS\",\n      \"properties\": {\n        \"dtype\": \"number\",\n        \"std\": 63,\n        \"min\": 108,\n        \"max\": 488,\n        \"num_unique_values\": 159,\n        \"samples\": [\n          366\n        ],\n        \"semantic_type\": \"\",\n        \"description\": \"\"\n      }\n    }\n  ]\n}"
            }
          },
          "metadata": {},
          "execution_count": 33
        }
      ]
    },
    {
      "cell_type": "markdown",
      "source": [
        "## Selecting Columns for Multiple Regression"
      ],
      "metadata": {
        "id": "f1fKSebiW2Ls"
      }
    },
    {
      "cell_type": "code",
      "source": [
        "cdf = df[['ENGINESIZE', 'CYLINDERS', 'TRANSMISSION', 'FUELTYPE', 'FUELCONSUMPTION_HWY', 'FUELCONSUMPTION_COMB', 'CO2EMISSIONS']]"
      ],
      "metadata": {
        "id": "5NbdJl9cW7uM"
      },
      "execution_count": 34,
      "outputs": []
    },
    {
      "cell_type": "markdown",
      "source": [
        "## Plotting Emission Values w.r.t Engine Size"
      ],
      "metadata": {
        "id": "UjJVPp8kXMDS"
      }
    },
    {
      "cell_type": "code",
      "source": [
        "plt.scatter(cdf.ENGINESIZE, cdf.CO2EMISSIONS, color = 'blue')\n",
        "plt.xlabel(\"Engine Size\")\n",
        "plt.ylabel(\"CO2 Emissions\")\n",
        "plt.show()"
      ],
      "metadata": {
        "colab": {
          "base_uri": "https://localhost:8080/",
          "height": 449
        },
        "id": "VjF4fOcyXPsS",
        "outputId": "bcce3491-1887-45ce-f801-b106a26e010e"
      },
      "execution_count": 35,
      "outputs": [
        {
          "output_type": "display_data",
          "data": {
            "text/plain": [
              "<Figure size 640x480 with 1 Axes>"
            ],
            "image/png": "[encoded data removed]"
          },
          "metadata": {}
        }
      ]
    },
    {
      "cell_type": "markdown",
      "source": [
        "## Creating train and test dataset"
      ],
      "metadata": {
        "id": "bI3VVldYXbsB"
      }
    },
    {
      "cell_type": "code",
      "source": [
        "msk = np.random.rand(len(df)) < 0.9\n",
        "train = cdf[msk]\n",
        "test = cdf[~msk]"
      ],
      "metadata": {
        "id": "_Y34eOltXeul"
      },
      "execution_count": 36,
      "outputs": []
    },
    {
      "cell_type": "markdown",
      "source": [
        "## Train Data Distribution"
      ],
      "metadata": {
        "id": "sst2MN6nXoQO"
      }
    },
    {
      "cell_type": "code",
      "source": [
        "plt.scatter(train.ENGINESIZE, train.CO2EMISSIONS, color = 'green')\n",
        "plt.xlabel('ENGINE SIZE')\n",
        "plt.ylabel('CO2 Emissions')\n",
        "plt.show()"
      ],
      "metadata": {
        "colab": {
          "base_uri": "https://localhost:8080/",
          "height": 451
        },
        "id": "Gn8zqH1VXqfI",
        "outputId": "e40e1e61-2539-47f8-fcc3-edab8e1bd8d6"
      },
      "execution_count": 37,
      "outputs": [
        {
          "output_type": "display_data",
          "data": {
            "text/plain": [
              "<Figure size 640x480 with 1 Axes>"
            ],
            "image/png": "[encoded data removed]"
          },
          "metadata": {}
        }
      ]
    },
    {
      "cell_type": "markdown",
      "source": [
        "## Multiple Regression Model"
      ],
      "metadata": {
        "id": "K6_VVZzqX3hm"
      }
    },
    {
      "cell_type": "code",
      "source": [
        "from sklearn import linear_model\n",
        "reg = linear_model.LinearRegression()\n",
        "x = np.asarray(train[['ENGINESIZE', 'CYLINDERS', 'FUELCONSUMPTION_COMB']])\n",
        "y = np.asarray(train[['CO2EMISSIONS']])\n",
        "reg.fit(x, y)\n",
        "\n",
        "print(\"Coefficients: \", reg.coef_)"
      ],
      "metadata": {
        "colab": {
          "base_uri": "https://localhost:8080/"
        },
        "id": "eyPbXwKpX5v5",
        "outputId": "487b69f0-1f37-4766-df99-c99d53fb9f96"
      },
      "execution_count": 38,
      "outputs": [
        {
          "output_type": "stream",
          "name": "stdout",
          "text": [
            "Coefficients:  [[11.12421351  7.17175151  9.49705048]]\n"
          ]
        }
      ]
    },
    {
      "cell_type": "markdown",
      "source": [
        "## OLS (Ordinary Least Squares)\n",
        "\n",
        "Trying to minimizes the sum of squared errors (SSE) or mean squared error (MSE) between the target variable (y) and our predicted output ($\\hat{y}$) over all samples in the dataset.\n",
        "\n"
      ],
      "metadata": {
        "id": "_E8DsQzcYT4F"
      }
    },
    {
      "cell_type": "markdown",
      "source": [
        "## Prediction"
      ],
      "metadata": {
        "id": "RDjdC5OyYipa"
      }
    },
    {
      "cell_type": "code",
      "source": [
        "from sklearn.metrics import r2_score\n",
        "\n",
        "y_hat = reg.predict(test[['ENGINESIZE', 'CYLINDERS', 'FUELCONSUMPTION_COMB']])\n",
        "test_x = np.asarray(test[['ENGINESIZE', 'CYLINDERS', 'FUELCONSUMPTION_COMB']])\n",
        "test_y = np.asarray(test[['CO2EMISSIONS']])\n",
        "\n",
        "# MSE\n",
        "print(\"MSE: %.2f\" % np.mean((y_hat - test_y) ** 2))\n",
        "\n",
        "# Variance Score\n",
        "print(\"Variance Score: %.2f\" % reg.score(test_x, test_y))\n",
        "\n",
        "# R2 Score\n",
        "print(\"R2 Score: %.2f\" % r2_score(test_y, y_hat))"
      ],
      "metadata": {
        "colab": {
          "base_uri": "https://localhost:8080/"
        },
        "id": "C_BfSXIAYc6y",
        "outputId": "bd7ce653-44d0-44e7-c45d-ab4bcdd292c3"
      },
      "execution_count": 39,
      "outputs": [
        {
          "output_type": "stream",
          "name": "stdout",
          "text": [
            "MSE: 480.20\n",
            "Variance Score: 0.89\n",
            "R2 Score: 0.89\n"
          ]
        },
        {
          "output_type": "stream",
          "name": "stderr",
          "text": [
            "/usr/local/lib/python3.10/dist-packages/sklearn/base.py:458: UserWarning: X has feature names, but LinearRegression was fitted without feature names\n",
            "  warnings.warn(\n"
          ]
        }
      ]
    },
    {
      "cell_type": "code",
      "source": [
        "# Checking with random data\n",
        "z = reg.predict([[10, 4, 9.7], [12, 6, 6.7]])\n",
        "print(z)"
      ],
      "metadata": {
        "colab": {
          "base_uri": "https://localhost:8080/"
        },
        "id": "g43Ptn20ZsDZ",
        "outputId": "9941259c-188a-4ac0-aa55-72fe2d76a858"
      },
      "execution_count": 40,
      "outputs": [
        {
          "output_type": "stream",
          "name": "stdout",
          "text": [
            "[[299.37483686]\n",
            " [307.47561545]]\n"
          ]
        }
      ]
    }
  ]
}